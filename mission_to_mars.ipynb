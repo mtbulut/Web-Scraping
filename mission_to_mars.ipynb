{
 "cells": [
  {
   "cell_type": "code",
   "execution_count": 1,
   "metadata": {},
   "outputs": [],
   "source": [
    "# Dependencies\n",
    "import pandas as pd\n",
    "import time\n",
    "from bs4 import BeautifulSoup\n",
    "import requests \n",
    "from selenium import webdriver "
   ]
  },
  {
   "cell_type": "markdown",
   "metadata": {},
   "source": [
    " # Step 1 - Scraping\n",
    " # NASA Mars News"
   ]
  },
  {
   "cell_type": "code",
   "execution_count": 2,
   "metadata": {},
   "outputs": [],
   "source": [
    "# Scrape the latest News Title and Paragraph Text. Assign the text to variables that you can reference later.\n",
    "base_URL = \"https://mars.nasa.gov/news\"\n",
    "JPL_URL = \"https://www.jpl.nasa.gov/spaceimages/?search=&category=Mars\"\n",
    "JPL_URL2 = \"https://www.jpl.nasa.gov\"\n",
    "\n",
    "driver = webdriver.Firefox()\n",
    "driver.get(base_URL)\n",
    "html_text = driver.page_source\n",
    "\n",
    "soup = BeautifulSoup(html_text, \"html.parser\")\n",
    "\n",
    "latest_title = soup.find(\"div\", class_=\"content_title\").text\n",
    "# print(f'The latest Title: {latest_title}')\n",
    "\n",
    "latest_paragraph = soup.find(\"div\", class_=\"article_teaser_body\").text\n",
    "# print(f'The latest paragraph: {latest_paragraph}')\n"
   ]
  },
  {
   "cell_type": "markdown",
   "metadata": {},
   "source": [
    "### JPL Mars Space Images - Featured Image"
   ]
  },
  {
   "cell_type": "code",
   "execution_count": 3,
   "metadata": {},
   "outputs": [],
   "source": [
    "r = requests.get(JPL_URL)\n",
    "html = r.text\n",
    "soup = BeautifulSoup(html, \"html.parser\")"
   ]
  },
  {
   "cell_type": "code",
   "execution_count": 4,
   "metadata": {},
   "outputs": [
    {
     "data": {
      "text/plain": [
       "<a class=\"button fancybox\" data-description=\"NASA's Mars Reconnaissance Orbiter shows a bright feature interpreted as the United Kingdom's Beagle 2 Lander, which was never heard from after its expected December 25, 2003, landing.\" data-fancybox-group=\"images\" data-fancybox-href=\"/spaceimages/images/mediumsize/PIA19108_ip.jpg\" data-link=\"/spaceimages/details.php?id=PIA19108\" data-title=\"Beagle 2 Lander Observed by Mars Reconnaissance Orbiter\" id=\"full_image\">\n",
       "\t\t\t\t\tFULL IMAGE\n",
       "\t\t\t\t  </a>"
      ]
     },
     "execution_count": 4,
     "metadata": {},
     "output_type": "execute_result"
    }
   ],
   "source": [
    "mars_images_path = soup.find(\"footer\").a\n",
    "mars_images_path"
   ]
  },
  {
   "cell_type": "code",
   "execution_count": 5,
   "metadata": {},
   "outputs": [
    {
     "data": {
      "text/plain": [
       "'https://www.jpl.nasa.gov/spaceimages/images/mediumsize/PIA19108_ip.jpg'"
      ]
     },
     "execution_count": 5,
     "metadata": {},
     "output_type": "execute_result"
    }
   ],
   "source": [
    "all_mars_image_url = JPL_URL2 + mars_images_path[\"data-fancybox-href\"]\n",
    "all_mars_image_url"
   ]
  },
  {
   "cell_type": "markdown",
   "metadata": {},
   "source": [
    "### Mars Weather"
   ]
  },
  {
   "cell_type": "code",
   "execution_count": 6,
   "metadata": {},
   "outputs": [],
   "source": [
    "# Visit the Mars Weather twitter account here and scrape the latest Mars weather tweet from the page.\n",
    "# Save the tweet text for the weather report as a variable called mars_weather."
   ]
  },
  {
   "cell_type": "code",
   "execution_count": 7,
   "metadata": {},
   "outputs": [
    {
     "data": {
      "text/plain": [
       "'InSight sol 448 (2020-02-29) low -94.1ºC (-137.3ºF) high -8.3ºC (17.0ºF)\\nwinds from the SSW at 5.5 m/s (12.4 mph) gusting to 19.9 m/s (44.6 mph)\\npressure at 6.30 hPapic.twitter.com/QTKm4klPNr'"
      ]
     },
     "execution_count": 7,
     "metadata": {},
     "output_type": "execute_result"
    }
   ],
   "source": [
    "mars_weather_url = \"https://twitter.com/marswxreport?lang=en\"\n",
    "html_text = requests.get(mars_weather_url).text\n",
    "soup = BeautifulSoup(html_text, \"html.parser\")\n",
    "mars_weather = soup.find('p','TweetTextSize TweetTextSize--normal js-tweet-text tweet-text').text\n",
    "mars_weather"
   ]
  },
  {
   "cell_type": "markdown",
   "metadata": {},
   "source": [
    "### Mars Facts"
   ]
  },
  {
   "cell_type": "code",
   "execution_count": 8,
   "metadata": {},
   "outputs": [
    {
     "data": {
      "text/html": [
       "<div>\n",
       "<style scoped>\n",
       "    .dataframe tbody tr th:only-of-type {\n",
       "        vertical-align: middle;\n",
       "    }\n",
       "\n",
       "    .dataframe tbody tr th {\n",
       "        vertical-align: top;\n",
       "    }\n",
       "\n",
       "    .dataframe thead th {\n",
       "        text-align: right;\n",
       "    }\n",
       "</style>\n",
       "<table border=\"1\" class=\"dataframe\">\n",
       "  <thead>\n",
       "    <tr style=\"text-align: right;\">\n",
       "      <th></th>\n",
       "      <th>Values/Units</th>\n",
       "    </tr>\n",
       "    <tr>\n",
       "      <th>Mars Facts</th>\n",
       "      <th></th>\n",
       "    </tr>\n",
       "  </thead>\n",
       "  <tbody>\n",
       "    <tr>\n",
       "      <th>Equatorial Diameter:</th>\n",
       "      <td>6,792 km</td>\n",
       "    </tr>\n",
       "    <tr>\n",
       "      <th>Polar Diameter:</th>\n",
       "      <td>6,752 km</td>\n",
       "    </tr>\n",
       "    <tr>\n",
       "      <th>Mass:</th>\n",
       "      <td>6.39 × 10^23 kg (0.11 Earths)</td>\n",
       "    </tr>\n",
       "    <tr>\n",
       "      <th>Moons:</th>\n",
       "      <td>2 (Phobos &amp; Deimos)</td>\n",
       "    </tr>\n",
       "    <tr>\n",
       "      <th>Orbit Distance:</th>\n",
       "      <td>227,943,824 km (1.38 AU)</td>\n",
       "    </tr>\n",
       "    <tr>\n",
       "      <th>Orbit Period:</th>\n",
       "      <td>687 days (1.9 years)</td>\n",
       "    </tr>\n",
       "    <tr>\n",
       "      <th>Surface Temperature:</th>\n",
       "      <td>-87 to -5 °C</td>\n",
       "    </tr>\n",
       "    <tr>\n",
       "      <th>First Record:</th>\n",
       "      <td>2nd millennium BC</td>\n",
       "    </tr>\n",
       "    <tr>\n",
       "      <th>Recorded By:</th>\n",
       "      <td>Egyptian astronomers</td>\n",
       "    </tr>\n",
       "  </tbody>\n",
       "</table>\n",
       "</div>"
      ],
      "text/plain": [
       "                                       Values/Units\n",
       "Mars Facts                                         \n",
       "Equatorial Diameter:                       6,792 km\n",
       "Polar Diameter:                            6,752 km\n",
       "Mass:                 6.39 × 10^23 kg (0.11 Earths)\n",
       "Moons:                          2 (Phobos & Deimos)\n",
       "Orbit Distance:            227,943,824 km (1.38 AU)\n",
       "Orbit Period:                  687 days (1.9 years)\n",
       "Surface Temperature:                   -87 to -5 °C\n",
       "First Record:                     2nd millennium BC\n",
       "Recorded By:                   Egyptian astronomers"
      ]
     },
     "execution_count": 8,
     "metadata": {},
     "output_type": "execute_result"
    }
   ],
   "source": [
    "Mars_Facts_URL = \"https://space-facts.com/mars/\"\n",
    "Mars_Facts_df = pd.read_html(Mars_Facts_URL)[0]\n",
    "Mars_Facts_df.columns = [\"Mars Facts\", \"Values/Units\"]\n",
    "Mars_Facts_df.set_index(\"Mars Facts\")"
   ]
  },
  {
   "cell_type": "markdown",
   "metadata": {},
   "source": [
    "### Mars Hemispheres"
   ]
  },
  {
   "cell_type": "code",
   "execution_count": 9,
   "metadata": {},
   "outputs": [],
   "source": [
    "# Visit the USGS Astrogeology site here to obtain high resolution images for each of Mar's hemispheres.\n",
    "\n",
    "# You will need to click each of the links to the hemispheres in order to find the image url to the full resolution image.\n",
    "\n",
    "# Save both the image url string for the full resolution hemisphere image, and the Hemisphere title containing the hemisphere name. Use a Python dictionary to store the data using the keys img_url and title.\n",
    "\n",
    "# Append the dictionary with the image url string and the hemisphere title to a list. This list will contain one dictionary for each hemisphere."
   ]
  },
  {
   "cell_type": "code",
   "execution_count": 11,
   "metadata": {},
   "outputs": [
    {
     "data": {
      "text/plain": [
       "<html lang=\"en\"><head>\n",
       "<link href=\"//ajax.googleapis.com/ajax/libs/jqueryui/1.11.3/themes/smoothness/jquery-ui.css\" rel=\"stylesheet\" type=\"text/css\"/>\n",
       "<title>Astropedia Search Results | USGS Astrogeology Science Center</title>\n",
       "<meta content=\"USGS Astrogeology Science Center Astropedia search results.\" name=\"description\"/>\n",
       "<meta content=\"USGS,Astrogeology Science Center,Cartography,Geology,Space,Geological Survey,Mapping\" name=\"keywords\"/>\n",
       "<meta content=\"IE=edge\" http-equiv=\"X-UA-Compatible\"/>\n",
       "<meta content=\"text/html; charset=utf-8\" http-equiv=\"Content-Type\"/>\n",
       "<meta content=\"width=device-width, initial-scale=1, maximum-scale=1\" name=\"viewport\"/>\n",
       "<meta content=\"x61hXXVj7wtfBSNOPnTftajMsZ5yB2W-qRoyr7GtOKM\" name=\"google-site-verification\"/>\n",
       "<!--<link rel=\"stylesheet\" href=\"http://fonts.googleapis.com/css?family=Open+Sans:400italic,400,bold\"/>-->\n",
       "<link href=\"/css/main.css\" media=\"screen\" rel=\"stylesheet\"/>\n",
       "<link href=\"/css/print.css\" media=\"print\" rel=\"stylesheet\"/>\n",
       "<!--[if lt IE 9]>\n",
       "\t\t\t<script src=\"http://html5shiv.googlecode.com/svn/trunk/html5.js\"></script>\n",
       "\t\t\t<script src=\"/js/respond.min.js\"></script>\n",
       "\t\t\t<link rel=\"stylesheet\" type=\"text/css\" href=\"/css/ie.css\"/>\n",
       "                        <script>\n",
       "                          document.createElement('header');\n",
       "                          document.createElement('nav');\n",
       "                          document.createElement('section');\n",
       "                          document.createElement('article');\n",
       "                          document.createElement('aside');\n",
       "                          document.createElement('footer');\n",
       "                          document.createElement('hgroup');\n",
       "                        </script>\n",
       "                  <![endif]-->\n",
       "<link href=\"/favicon.ico\" rel=\"icon\" type=\"image/x-ico\"/>\n",
       "</head>\n",
       "<body id=\"results\">\n",
       "<header>\n",
       "<!--\n",
       "\t\t\t<h1>Astrogeology Science Center</h1>\n",
       "-->\n",
       "<a href=\"https://www.usgs.gov/centers/astrogeo-sc\" style=\"float:right;margin-top:10px;\">\n",
       "<img alt=\"USGS: Science for a Changing World\" class=\"logo\" height=\"60\" src=\"/images/usgs_logo_main_2x.png\"/>\n",
       "</a>\n",
       "<a href=\"https://nasa.gov\" style=\"float:right;margin-top:5px;margin-right:20px;\">\n",
       "<img alt=\"NASA\" class=\"logo\" height=\"65\" src=\"/images/logos/nasa-logo-web-med.png\"/>\n",
       "</a>\n",
       "<a href=\"https://pds-imaging.jpl.nasa.gov/\" style=\"float:right;margin-top:5px;margin-right: 10px;\">\n",
       "<img alt=\"PDS Cartography and Imaging Science Node\" class=\"logo\" height=\"65\" src=\"/images/pds_logo-invisible-web.png\"/>\n",
       "</a>\n",
       "</header>\n",
       "<div class=\"wrapper\">\n",
       "<!--\n",
       "\t\t\t<nav>\n",
       "\t\t\t\t<a id=\"nav-toggle\" href=\"#\" title=\"Navigation Menu\">Menu</a>\n",
       "<ul class=\"dropdown dropdown-horizontal\" id=\"yw0\">\n",
       "<li><a href=\"/\">Home</a></li>\n",
       "<li><a href=\"/about\">About</a>\n",
       "<ul>\n",
       "<li><a href=\"/about/careers\">Careers</a></li>\n",
       "<li><a href=\"/contact\">Contact</a></li>\n",
       "<li><a href=\"/about/events\">Events</a></li>\n",
       "<li><a href=\"/site/glossary\">Glossary</a></li>\n",
       "<li><a href=\"/about/mission\">Mission</a></li>\n",
       "<li><a href=\"/news\">News</a></li>\n",
       "<li><a href=\"/people\">People</a></li>\n",
       "<li><a href=\"/about/using-our-images\">Using Our Images</a></li>\n",
       "<li><a href=\"/about/visitors\">Visitors</a></li>\n",
       "</ul>\n",
       "</li>\n",
       "<li><a href=\"/facilities\">Labs / Facilities</a>\n",
       "<ul>\n",
       "<li><a href=\"/facilities/flynn-creek-crater-sample-collection\">Flynn Creek Crater Sample Collection</a></li>\n",
       "<li><a href=\"http://www.moon-cal.org\">Lunar Calibration Project</a></li>\n",
       "<li><a href=\"/facilities/meteor-crater-sample-collection\">Meteor Crater Sample Collection</a></li>\n",
       "<li><a href=\"/facilities/mrctr\">MRCTR GIS Lab</a></li>\n",
       "<li><a href=\"/facilities/cartography-and-imaging-sciences-node-of-nasa-planetary-data-system\">PDS Cartography and Imaging Sciences Node</a></li>\n",
       "<li><a href=\"/pds/annex\">PDS IMG Annex</a></li>\n",
       "<li><a href=\"/facilities/photogrammetry-guest-facility\">Photogrammetry Guest Facility</a></li>\n",
       "<li><a href=\"/rpif\">Regional Planetary Information Facility (RPIF)</a></li>\n",
       "</ul>\n",
       "</li>\n",
       "<li><a href=\"/maps\">Maps / Products</a>\n",
       "<ul>\n",
       "<li><a href=\"/search\">Product Search</a></li>\n",
       "<li><a href=\"http://planetarynames.wr.usgs.gov\">Gazetteer of Planetary Nomenclature</a></li>\n",
       "<li><a href=\"http://planetarymapping.wr.usgs.gov\">Geologic Mapping Program</a></li>\n",
       "<li><a href=\"http://pilot.wr.usgs.gov\">Planetary Image Locator Tool (PILOT)</a></li>\n",
       "<li><a href=\"/search/planetary-index\">Planetary Map Index</a></li>\n",
       "</ul>\n",
       "</li>\n",
       "<li><a href=\"/geology\">Missions / Research</a>\n",
       "<ul>\n",
       "<li><a href=\"/geology/mars-dunes\">Mars Dunes</a></li>\n",
       "<li><a href=\"/geology/mars-ice\">Mars Ice</a></li>\n",
       "<li><a href=\"/missions\">Mission Support</a></li>\n",
       "<li><a href=\"/solar-system\">Solar System</a></li>\n",
       "<li><a href=\"/groups\">Working Groups</a></li>\n",
       "</ul>\n",
       "</li>\n",
       "<li><a href=\"/tools\">Tools</a>\n",
       "<ul>\n",
       "<li><a href=\"http://planetarynames.wr.usgs.gov\">Gazetteer of Planetary Nomenclature</a></li>\n",
       "<li><a href=\"http://isis.astrogeology.usgs.gov\">Integrated Software for Imagers and Spectrometers (ISIS)</a></li>\n",
       "<li><a href=\"http://astrogeology.usgs.gov/tools/map-a-planet-2\">Map a Planet 2</a></li>\n",
       "<li><a href=\"http://pilot.wr.usgs.gov\">Planetary Image Locator Tool (PILOT)</a></li>\n",
       "<li><a href=\"http://astrocloud.wr.usgs.gov/\">Projection on the Web (POW)</a></li>\n",
       "</ul>\n",
       "</li>\n",
       "</ul>\t\t\t\t<form id=\"search\" class=\"search\" action=\"/search/results\" method=\"get\">\n",
       "\t\t\t\t\t<input type=\"submit\" value=\"\" title=\"Search Astropedia\"/>\n",
       "\t\t\t\t\t<input type=\"text\" placeholder=\"Search\" name=\"q\"/>\n",
       "\t\t\t\t</form>\n",
       "\t\t\t</nav>\n",
       "-->\n",
       "<div class=\"container\">\n",
       "<div class=\"widget block bar\">\n",
       "<a href=\"/search\" style=\"float:right;text-decoration:none;\">\n",
       "<img alt=\"Astropedia\" src=\"/images/astropedia/astropedia-logo-main.png\" style=\"width:200px;border:none;float:right;\"/>\n",
       "<div style=\"clear:both;font-size:.8em;float:right;color:#888;\">Lunar and Planetary Cartographic Catalog</div>\n",
       "</a>\n",
       "<div style=\"float:left;height:60px;\">\n",
       "</div>\n",
       "</div>\n",
       "<form action=\"/search/results\" class=\"bar widget block\" id=\"search-bar\">\n",
       "<input name=\"q\" type=\"hidden\" value=\"hemisphere-enhanced\"/>\n",
       "<input name=\"target\" type=\"hidden\" value=\"Mars\"/><input name=\"__ncforminfo\" type=\"hidden\" value=\"DgEcl-RWb2HooqEoQaHw5FtT2uTrIt0HwsCl9eSnXMIx419WPElKqGc91bIHugUqHqqEB701LqfaRAL4nRl-uhCbjEmm4EGhJ3QZvmk0v_4vDdmHJl9eGw==\"/></form><div class=\"full-content\">\n",
       "<section class=\"block\" id=\"results-accordian\">\n",
       "<div class=\"result-list\" data-section=\"product\" id=\"product-section\">\n",
       "<div class=\"accordian\">\n",
       "<h2>Products</h2>\n",
       "<span class=\"count\">4 Results</span>\n",
       "<span class=\"collapse\">Collapse</span>\n",
       "</div>\n",
       "<div class=\"collapsible results\">\n",
       "<div class=\"item\"><a class=\"itemLink product-item\" href=\"/search/map/Mars/Viking/cerberus_enhanced\"><img alt=\"Cerberus Hemisphere Enhanced thumbnail\" class=\"thumb\" src=\"/cache/images/dfaf3849e74bf973b59eb50dab52b583_cerberus_enhanced.tif_thumb.png\"/></a><div class=\"description\"><a class=\"itemLink product-item\" href=\"/search/map/Mars/Viking/cerberus_enhanced\"><h3>Cerberus Hemisphere Enhanced</h3></a><span class=\"subtitle\" style=\"float:left\">image/tiff 21 MB</span><span class=\"pubDate\" style=\"float:right\"></span><br/><p>Mosaic of the Cerberus hemisphere of Mars projected into point perspective, a view similar to that which one would see from a spacecraft. This mosaic is composed of 104 Viking Orbiter images acquired…</p></div> <!-- end description --></div><div class=\"item\"><a class=\"itemLink product-item\" href=\"/search/map/Mars/Viking/schiaparelli_enhanced\"><img alt=\"Schiaparelli Hemisphere Enhanced thumbnail\" class=\"thumb\" src=\"/cache/images/7677c0a006b83871b5a2f66985ab5857_schiaparelli_enhanced.tif_thumb.png\"/></a><div class=\"description\"><a class=\"itemLink product-item\" href=\"/search/map/Mars/Viking/schiaparelli_enhanced\"><h3>Schiaparelli Hemisphere Enhanced</h3></a><span class=\"subtitle\" style=\"float:left\">image/tiff 35 MB</span><span class=\"pubDate\" style=\"float:right\"></span><br/><p>Mosaic of the Schiaparelli hemisphere of Mars projected into point perspective, a view similar to that which one would see from a spacecraft. The images were acquired in 1980 during early northern…</p></div> <!-- end description --></div><div class=\"item\"><a class=\"itemLink product-item\" href=\"/search/map/Mars/Viking/syrtis_major_enhanced\"><img alt=\"Syrtis Major Hemisphere Enhanced thumbnail\" class=\"thumb\" src=\"/cache/images/aae41197e40d6d4f3ea557f8cfe51d15_syrtis_major_enhanced.tif_thumb.png\"/></a><div class=\"description\"><a class=\"itemLink product-item\" href=\"/search/map/Mars/Viking/syrtis_major_enhanced\"><h3>Syrtis Major Hemisphere Enhanced</h3></a><span class=\"subtitle\" style=\"float:left\">image/tiff 25 MB</span><span class=\"pubDate\" style=\"float:right\"></span><br/><p>Mosaic of the Syrtis Major hemisphere of Mars projected into point perspective, a view similar to that which one would see from a spacecraft. This mosaic is composed of about 100 red and violet…</p></div> <!-- end description --></div><div class=\"item\"><a class=\"itemLink product-item\" href=\"/search/map/Mars/Viking/valles_marineris_enhanced\"><img alt=\"Valles Marineris Hemisphere Enhanced thumbnail\" class=\"thumb\" src=\"/cache/images/04085d99ec3713883a9a57f42be9c725_valles_marineris_enhanced.tif_thumb.png\"/></a><div class=\"description\"><a class=\"itemLink product-item\" href=\"/search/map/Mars/Viking/valles_marineris_enhanced\"><h3>Valles Marineris Hemisphere Enhanced</h3></a><span class=\"subtitle\" style=\"float:left\">image/tiff 27 MB</span><span class=\"pubDate\" style=\"float:right\"></span><br/><p>Mosaic of the Valles Marineris hemisphere of Mars projected into point perspective, a view similar to that which one would see from a spacecraft. The distance is 2500 kilometers from the surface of…</p></div> <!-- end description --></div><script>addBases=[];;if(typeof resetLayerSwitcher===\"function\"){resetLayerSwitcher(false)};var productTotal = 4;</script>\n",
       "</div> <!-- end this-section -->\n",
       "</div>\n",
       "</section>\n",
       "</div>\n",
       "</div>\n",
       "<div class=\"icons projects black scroll-wrapper\">\n",
       "<div class=\"scroll\">\n",
       "<a class=\"icon\" href=\"http://isis.astrogeology.usgs.gov\" title=\"Integrated Software for Imagers and Spectrometers\">\n",
       "<img alt=\"ISIS Logo\" height=\"112\" src=\"/images/logos/isis_2x.jpg\" width=\"112\"/>\n",
       "<span class=\"label\">ISIS</span>\n",
       "</a>\n",
       "<a class=\"icon\" href=\"http://planetarynames.wr.usgs.gov\" title=\"Gazetteer of Planetary Nomenclature\">\n",
       "<img alt=\"Nomenclature Logo\" height=\"112\" src=\"/images/logos/nomenclature_2x.jpg\" width=\"112\"/>\n",
       "<span class=\"label\">Planetary Nomenclature</span>\n",
       "</a>\n",
       "<a class=\"icon\" href=\"https://astrogeology.usgs.gov/tools/map-a-planet-2\" title=\"Map a Planet 2\">\n",
       "<img alt=\"Map-a-Planet Logo\" height=\"112\" src=\"/images/logos/map_a_planet_2x.jpg\" width=\"112\"/>\n",
       "<span class=\"label\">Map a Planet 2</span>\n",
       "</a>\n",
       "<a class=\"icon\" href=\"https://www.usgs.gov/centers/astrogeo-sc/science/cartography-and-imaging-sciences-node-nasa-planetary-data-system\" title=\"PDS Cartography and Imaging Science Node\">\n",
       "<img alt=\"PDS Logo\" height=\"112\" src=\"/images/pds_logo-black-web.png\"/>\n",
       "<span class=\"label\">PDS Cartography and Imaging Science Node</span>\n",
       "</a>\n",
       "<!--\n",
       "\t\t\t\t\t\t<a title=\"Astropedia Search\" href=\"/search\" class=\"icon\">\n",
       "\t\t\t\t\t\t\t<img alt=\"Astropedia Logo\" height=\"112\" width=\"112\" src=\"/images/logos/astropedia_2x.jpg\"/>\n",
       "\t\t\t\t\t\t\t<span class=\"label\">Astropedia</span>\n",
       "\t\t\t\t\t\t</a>\n",
       "-->\n",
       "<a class=\"icon\" href=\"https://www.usgs.gov/centers/astrogeo-sc/science/regional-planetary-image-facility-rpif\" title=\"Regional Planetary Image Facility\">\n",
       "<img alt=\"RPIF Logo\" height=\"112\" src=\"/images/logos/rpif_2x.jpg\" width=\"112\"/>\n",
       "<span class=\"label\">RPIF</span>\n",
       "</a>\n",
       "<a class=\"icon\" href=\"\" title=\"Photogrammetry Guest Facility\">\n",
       "<img alt=\"Photogrammetry Guest Faciltiy Logo\" height=\"112\" src=\"/images/logos/photogrammetry_2x.jpg\" width=\"112\"/>\n",
       "<span class=\"label\">Photogrammetry Guest Facility</span>\n",
       "</a>\n",
       "<a class=\"icon\" href=\"http://pilot.wr.usgs.gov\" title=\"Planetary Image Locator Tool\">\n",
       "<img alt=\"Pilot Logo\" height=\"112\" src=\"/images/logos/pilot_2x.jpg\" width=\"112\"/>\n",
       "<span class=\"label\">PILOT</span>\n",
       "</a>\n",
       "<a class=\"icon\" href=\"https://www.usgs.gov/centers/astrogeo-sc/science/mrctr-gis-lab\" title=\"Mapping, Remote-sensing, Cartography, Technology and Research GIS Lab\">\n",
       "<img alt=\"MRCTR GIS Lab Logo\" height=\"112\" src=\"/images/logos/mrctr_man_2x.png\" width=\"112\"/>\n",
       "<span class=\"label\">MRCTR GIS Lab</span>\n",
       "</a>\n",
       "</div>\n",
       "</div>\n",
       "<footer>\n",
       "<div class=\"left\">\n",
       "<a href=\"http://astrogeology.usgs.gov/search\">Search</a> |\n",
       "\t\t\t\t\t<a href=\"http://astrogeology.usgs.gov/maps/about\">About</a> |\n",
       "\t\t\t\t\t<a href=\"http://astrogeology.usgs.gov/maps/contact\">Contact</a>\n",
       "</div>\n",
       "<div class=\"right\">\n",
       "<a href=\"https://www.usgs.gov/centers/astrogeo-sc\">USGS Astrogeology Science Center</a>\n",
       "</div>\n",
       "</footer>\n",
       "</div>\n",
       "<!--\n",
       "\t\t<div class=\"credit\">\n",
       "\t\t\t<small>Background Credits: NASA/USGS</small>\n",
       "\t\t</div>\n",
       "-->\n",
       "<div class=\"page-background\" style=\"\n",
       "\t\t\tbackground:url('/images/backgrounds/mars.jpg');\n",
       "\t\t\tfilter:progid:DXImageTransform.Microsoft.AlphaImageLoader(\n",
       "\t\t\t\tsrc='/images/backgrounds/mars.jpg', sizingMethod='scale');\n",
       "\t\t\"></div>\n",
       "<script type=\"text/javascript\">\n",
       "var baseUrl = \"\";\n",
       "\n",
       "/*\n",
       "var _gaq = _gaq || [];_gaq.push(['_setAccount', 'UA-27613186-1']);_gaq.push(['_trackPageview']);(function() { var ga = document.createElement('script'); ga.type = 'text/javascript'; ga.async = true;ga.src = ('https:' == document.location.protocol ? 'https://ssl' : 'http://www') + '.google-analytics.com/ga.js'; var s = document.getElementsByTagName('script')[0]; s.parentNode.insertBefore(ga, s);})();\n",
       "*/\n",
       "\t\t</script>\n",
       "<script src=\"https://ajax.googleapis.com/ajax/libs/jquery/1.11.1/jquery.min.js\" type=\"text/javascript\"></script>\n",
       "<script src=\"//ajax.googleapis.com/ajax/libs/jqueryui/1.11.3/jquery-ui.min.js\" type=\"text/javascript\"></script>\n",
       "<script src=\"/js/general.js\" type=\"text/javascript\"></script>\n",
       "</body></html>"
      ]
     },
     "execution_count": 11,
     "metadata": {},
     "output_type": "execute_result"
    }
   ],
   "source": [
    "Mars_Hemispehers_URL = \"https://astrogeology.usgs.gov/search/results?q=hemisphere+enhanced&k1=target&v1=Mars\"\n",
    "driver.get(Mars_Hemispehers_URL)\n",
    "html_text = driver.page_source\n",
    "soup = BeautifulSoup(html_text, \"html.parser\")\n",
    "soup"
   ]
  },
  {
   "cell_type": "code",
   "execution_count": null,
   "metadata": {},
   "outputs": [],
   "source": []
  }
 ],
 "metadata": {
  "kernelspec": {
   "display_name": "web_scrap_2",
   "language": "python",
   "name": "python3"
  },
  "language_info": {
   "codemirror_mode": {
    "name": "ipython",
    "version": 3
   },
   "file_extension": ".py",
   "mimetype": "text/x-python",
   "name": "python",
   "nbconvert_exporter": "python",
   "pygments_lexer": "ipython3",
   "version": "3.7.5"
  }
 },
 "nbformat": 4,
 "nbformat_minor": 4
}
